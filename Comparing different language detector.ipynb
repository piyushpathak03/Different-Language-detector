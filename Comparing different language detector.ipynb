{
 "cells": [
  {
   "cell_type": "markdown",
   "metadata": {},
   "source": [
    "# langdetect package"
   ]
  },
  {
   "cell_type": "markdown",
   "metadata": {},
   "source": [
    "This module is a port of Google’s language-detection library that supports 55 languages. This module don’t come with Python’s standard utility modules. So, it is needed to be installed externally. To install this type the below command in the terminal.\n",
    "\n"
   ]
  },
  {
   "cell_type": "markdown",
   "metadata": {},
   "source": [
    "### install packages"
   ]
  },
  {
   "cell_type": "code",
   "execution_count": 1,
   "metadata": {},
   "outputs": [
    {
     "name": "stdout",
     "output_type": "stream",
     "text": [
      "Requirement already satisfied: langdetect in c:\\users\\piyush.pathak\\anaconda3\\lib\\site-packages (1.0.8)\n",
      "Requirement already satisfied: six in c:\\users\\piyush.pathak\\anaconda3\\lib\\site-packages (from langdetect) (1.15.0)\n",
      "Note: you may need to restart the kernel to use updated packages.\n"
     ]
    }
   ],
   "source": [
    "pip install langdetect"
   ]
  },
  {
   "cell_type": "code",
   "execution_count": 2,
   "metadata": {},
   "outputs": [],
   "source": [
    "from langdetect import detect"
   ]
  },
  {
   "cell_type": "code",
   "execution_count": 3,
   "metadata": {},
   "outputs": [
    {
     "name": "stdout",
     "output_type": "stream",
     "text": [
      "en\n",
      "hi\n",
      "es\n",
      "ja\n"
     ]
    }
   ],
   "source": [
    "print(detect(\"At AS Learning , learning never ends.\")) \n",
    "print(detect(\"एएस लर्निंग में, सीखना कभी समाप्त नहीं होता है।\")) \n",
    "print(detect(\"En AS Learning, el aprendizaje nunca termina.\")) \n",
    "print(detect(\"ASラーニングでは、学習は決して終わりません\"))"
   ]
  },
  {
   "cell_type": "code",
   "execution_count": null,
   "metadata": {},
   "outputs": [],
   "source": []
  },
  {
   "cell_type": "markdown",
   "metadata": {},
   "source": [
    "# Langid package"
   ]
  },
  {
   "cell_type": "markdown",
   "metadata": {},
   "source": [
    "langid.py is a standalone Language Identification (LangID) tool.\n",
    "This module is a standalone Language Identification tool. It is pre-trained over a large number of languages (currently 97). It is a single.py file with minimal dependencies. To install this type the below command in the terminal.\n",
    "\n",
    "The design principles are as follows:\n",
    "\n",
    "1. Fast\n",
    "2. Pre-trained over a large number of languages (currently 97)\n",
    "3. Not sensitive to domain-specific features (e.g. HTML/XML markup)\n",
    "4. Single .py file with minimal dependencies\n",
    "5. Deployable as a web service"
   ]
  },
  {
   "cell_type": "markdown",
   "metadata": {},
   "source": [
    "### install library"
   ]
  },
  {
   "cell_type": "code",
   "execution_count": 4,
   "metadata": {},
   "outputs": [
    {
     "name": "stdout",
     "output_type": "stream",
     "text": [
      "Collecting langid\n",
      "  Downloading langid-1.1.6.tar.gz (1.9 MB)\n",
      "Requirement already satisfied: numpy in c:\\users\\piyush.pathak\\anaconda3\\lib\\site-packages (from langid) (1.20.1)\n",
      "Building wheels for collected packages: langid\n",
      "  Building wheel for langid (setup.py): started\n",
      "  Building wheel for langid (setup.py): finished with status 'done'\n",
      "  Created wheel for langid: filename=langid-1.1.6-py3-none-any.whl size=1941195 sha256=d3c3b81636d4b2a5e3bf6997db5b76ff36e98efff730a4f8ea556788eec5d457\n",
      "  Stored in directory: c:\\users\\piyush.pathak\\appdata\\local\\pip\\cache\\wheels\\c5\\01\\a4\\0160c55074707b535a6757a541842817d530d8080ca943a107\n",
      "Successfully built langid\n",
      "Installing collected packages: langid\n",
      "Successfully installed langid-1.1.6\n",
      "Note: you may need to restart the kernel to use updated packages.\n"
     ]
    }
   ],
   "source": [
    "pip install langid"
   ]
  },
  {
   "cell_type": "code",
   "execution_count": 5,
   "metadata": {},
   "outputs": [
    {
     "name": "stdout",
     "output_type": "stream",
     "text": [
      "('en', 0.901430497396395)\n",
      "('hi', 0.9999996623730644)\n",
      "('es', 0.9870864718495084)\n",
      "('ja', 1.0)\n"
     ]
    }
   ],
   "source": [
    "import langid\n",
    "from langid.langid import LanguageIdentifier, model\n",
    "lang_identifier = LanguageIdentifier.from_modelstring(model, norm_probs=True)\n",
    "print(lang_identifier.classify(\"At AS Learning , learning never ends.\"))\n",
    "print(lang_identifier.classify(\"एएस लर्निंग में, सीखना कभी समाप्त नहीं होता है।\"))\n",
    "print(lang_identifier.classify(\"En AS Learning, el aprendizaje nunca termina.\"))\n",
    "print(lang_identifier.classify(\"ASラーニングでは、学習は決して終わりません\"))"
   ]
  },
  {
   "cell_type": "code",
   "execution_count": null,
   "metadata": {},
   "outputs": [],
   "source": []
  },
  {
   "cell_type": "markdown",
   "metadata": {},
   "source": [
    "# TextBlob package"
   ]
  },
  {
   "cell_type": "markdown",
   "metadata": {},
   "source": [
    "TextBlob is a Python (2 and 3) library for processing textual data. It provides a simple API for diving into common natural language processing (NLP) tasks such as part-of-speech tagging, noun phrase extraction, sentiment analysis, classification, translation, and more.\n",
    "This module is used for natural language processing(NLP) tasks such as noun phrase extraction, sentiment analysis, classification, translation, and more. To install this module type the below command in the terminal."
   ]
  },
  {
   "cell_type": "markdown",
   "metadata": {},
   "source": [
    "### install packages"
   ]
  },
  {
   "cell_type": "code",
   "execution_count": 7,
   "metadata": {},
   "outputs": [
    {
     "name": "stdout",
     "output_type": "stream",
     "text": [
      "Collecting textblobNote: you may need to restart the kernel to use updated packages.\n",
      "  Downloading textblob-0.15.3-py2.py3-none-any.whl (636 kB)\n",
      "Requirement already satisfied: nltk>=3.1 in c:\\users\\piyush.pathak\\anaconda3\\lib\\site-packages (from textblob) (3.5)\n",
      "Requirement already satisfied: tqdm in c:\\users\\piyush.pathak\\anaconda3\\lib\\site-packages (from nltk>=3.1->textblob) (4.56.0)\n",
      "Requirement already satisfied: click in c:\\users\\piyush.pathak\\anaconda3\\lib\\site-packages (from nltk>=3.1->textblob) (7.1.2)\n",
      "Requirement already satisfied: regex in c:\\users\\piyush.pathak\\anaconda3\\lib\\site-packages (from nltk>=3.1->textblob) (2020.6.8)\n",
      "Requirement already satisfied: joblib in c:\\users\\piyush.pathak\\anaconda3\\lib\\site-packages (from nltk>=3.1->textblob) (0.16.0)\n",
      "Installing collected packages: textblob\n",
      "Successfully installed textblob-0.15.3\n",
      "\n"
     ]
    }
   ],
   "source": [
    "pip install textblob"
   ]
  },
  {
   "cell_type": "code",
   "execution_count": 8,
   "metadata": {},
   "outputs": [],
   "source": [
    "from textblob import TextBlob"
   ]
  },
  {
   "cell_type": "code",
   "execution_count": 9,
   "metadata": {},
   "outputs": [
    {
     "name": "stdout",
     "output_type": "stream",
     "text": [
      "en\n",
      "hi\n",
      "es\n",
      "ja\n"
     ]
    }
   ],
   "source": [
    "print(TextBlob(\"At AS Learning , learning never ends.\").detect_language()) \n",
    "print(TextBlob(\"एएस लर्निंग में, सीखना कभी समाप्त नहीं होता है।\").detect_language()) \n",
    "print(TextBlob(\"En AS Learning, el aprendizaje nunca termina.\").detect_language()) \n",
    "print(TextBlob(\"ASラーニングでは、学習は決して終わりません\").detect_language())"
   ]
  },
  {
   "cell_type": "code",
   "execution_count": null,
   "metadata": {},
   "outputs": [],
   "source": []
  },
  {
   "cell_type": "markdown",
   "metadata": {},
   "source": [
    "# Other packages spacy and Fasttext"
   ]
  },
  {
   "cell_type": "markdown",
   "metadata": {},
   "source": [
    "# Speed comparison between three packages"
   ]
  },
  {
   "cell_type": "code",
   "execution_count": 10,
   "metadata": {},
   "outputs": [
    {
     "name": "stdout",
     "output_type": "stream",
     "text": [
      "en\n",
      "hi\n",
      "es\n",
      "ja\n",
      "Time elapsed for TextBlob: 0.5250847339630127\n"
     ]
    }
   ],
   "source": [
    "import time\n",
    "start = time.time()\n",
    "print(TextBlob(\"At AS Learning , learning never ends.\").detect_language()) \n",
    "print(TextBlob(\"एएस लर्निंग में, सीखना कभी समाप्त नहीं होता है।\").detect_language()) \n",
    "print(TextBlob(\"En AS Learning, el aprendizaje nunca termina.\").detect_language()) \n",
    "print(TextBlob(\"ASラーニングでは、学習は決して終わりません\").detect_language()) \n",
    "end = time.time()\n",
    "print (\"Time elapsed for TextBlob:\", end - start)"
   ]
  },
  {
   "cell_type": "code",
   "execution_count": null,
   "metadata": {},
   "outputs": [],
   "source": []
  },
  {
   "cell_type": "code",
   "execution_count": 11,
   "metadata": {},
   "outputs": [
    {
     "name": "stdout",
     "output_type": "stream",
     "text": [
      "('en', 0.901430497396395)\n",
      "('hi', 0.9999996623730644)\n",
      "('es', 0.9870864718495084)\n",
      "('ja', 1.0)\n",
      "Time elapsed for langid: 0.02437424659729004\n"
     ]
    }
   ],
   "source": [
    "start = time.time()\n",
    "print(lang_identifier.classify(\"At AS Learning , learning never ends.\"))\n",
    "print(lang_identifier.classify(\"एएस लर्निंग में, सीखना कभी समाप्त नहीं होता है।\"))\n",
    "print(lang_identifier.classify(\"En AS Learning, el aprendizaje nunca termina.\"))\n",
    "print(lang_identifier.classify(\"ASラーニングでは、学習は決して終わりません\"))\n",
    "end = time.time()\n",
    "print (\"Time elapsed for langid:\", end - start)"
   ]
  },
  {
   "cell_type": "code",
   "execution_count": null,
   "metadata": {},
   "outputs": [],
   "source": []
  },
  {
   "cell_type": "code",
   "execution_count": 12,
   "metadata": {},
   "outputs": [
    {
     "name": "stdout",
     "output_type": "stream",
     "text": [
      "en\n",
      "hi\n",
      "es\n",
      "ja\n",
      "Time elapsed for langdetect: 0.04836010932922363\n"
     ]
    }
   ],
   "source": [
    "start = time.time()\n",
    "print(detect(\"At AS Learning , learning never ends.\")) \n",
    "print(detect(\"एएस लर्निंग में, सीखना कभी समाप्त नहीं होता है।\")) \n",
    "print(detect(\"En AS Learning, el aprendizaje nunca termina.\")) \n",
    "print(detect(\"ASラーニングでは、学習は決して終わりません\")) \n",
    "end = time.time()\n",
    "print (\"Time elapsed for langdetect:\", end - start)"
   ]
  },
  {
   "cell_type": "code",
   "execution_count": null,
   "metadata": {},
   "outputs": [],
   "source": []
  },
  {
   "cell_type": "markdown",
   "metadata": {},
   "source": [
    "# Follow me on LinkedIn\n",
    "\n",
    "https://www.linkedin.com/in/piyushpathak03/"
   ]
  },
  {
   "cell_type": "code",
   "execution_count": null,
   "metadata": {},
   "outputs": [],
   "source": []
  }
 ],
 "metadata": {
  "kernelspec": {
   "display_name": "Python 3",
   "language": "python",
   "name": "python3"
  },
  "language_info": {
   "codemirror_mode": {
    "name": "ipython",
    "version": 3
   },
   "file_extension": ".py",
   "mimetype": "text/x-python",
   "name": "python",
   "nbconvert_exporter": "python",
   "pygments_lexer": "ipython3",
   "version": "3.8.3"
  }
 },
 "nbformat": 4,
 "nbformat_minor": 4
}
